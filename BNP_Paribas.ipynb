{
 "cells": [
  {
   "cell_type": "markdown",
   "metadata": {},
   "source": [
    "## https://www.kaggle.com/c/bnp-paribas-cardif-claims-management"
   ]
  },
  {
   "cell_type": "code",
   "execution_count": null,
   "metadata": {},
   "outputs": [],
   "source": [
    "import pandas as pd\n",
    "data_path = \"C:/Users/Trenton J. McKinney/PycharmProjects/Kaggle_BNP_Paribas/train.csv/train.csv\"\n",
    "bnp_df = pd.read_csv(data_path)"
   ]
  },
  {
   "cell_type": "code",
   "execution_count": 4,
   "metadata": {},
   "outputs": [
    {
     "name": "stdout",
     "output_type": "stream",
     "text": [
      "   ID  target        v1        v2 v3        v4         v5        v6        v7  \\\n0   3       1  1.335739  8.727474  C  3.921026   7.915266  2.599278  3.176895   \n1   4       1       NaN       NaN  C       NaN   9.191265       NaN       NaN   \n2   5       1  0.943877  5.310079  C  4.410969   5.326159  3.979592  3.928571   \n3   6       1  0.797415  8.304757  C  4.225930  11.627438  2.097700  1.987549   \n4   8       1       NaN       NaN  C       NaN        NaN       NaN       NaN   \n\n         v8    ...         v122      v123      v124  v125      v126      v127  \\\n0  0.012941    ...     8.000000  1.989780  0.035754    AU  1.804126  3.113719   \n1  2.301630    ...          NaN       NaN  0.598896    AF       NaN       NaN   \n2  0.019645    ...     9.333333  2.477596  0.013452    AE  1.773709  3.922193   \n3  0.171947    ...     7.018256  1.812795  0.002267    CJ  1.415230  2.954381   \n4       NaN    ...          NaN       NaN       NaN     Z       NaN       NaN   \n\n       v128  v129      v130      v131  \n0  2.024285     0  0.636365  2.857144  \n1  1.957825     0       NaN       NaN  \n2  1.120468     2  0.883118  1.176472  \n3  1.990847     1  1.677108  1.034483  \n4       NaN     0       NaN       NaN  \n\n[5 rows x 133 columns]\n"
     ]
    }
   ],
   "source": [
    "print(bnp_df.head())"
   ]
  },
  {
   "cell_type": "code",
   "execution_count": 6,
   "metadata": {},
   "outputs": [
    {
     "name": "stdout",
     "output_type": "stream",
     "text": [
      "114321\nIndex([u'ID', u'target', u'v1', u'v2', u'v3', u'v4', u'v5', u'v6', u'v7',\n       u'v8',\n       ...\n       u'v122', u'v123', u'v124', u'v125', u'v126', u'v127', u'v128', u'v129',\n       u'v130', u'v131'],\n      dtype='object', length=133)\n"
     ]
    }
   ],
   "source": [
    "print(len(bnp_df))\n",
    "print(bnp_df.columns)"
   ]
  },
  {
   "cell_type": "code",
   "execution_count": null,
   "metadata": {},
   "outputs": [],
   "source": [
    "print(bnp_df.describe)"
   ]
  },
  {
   "cell_type": "code",
   "execution_count": null,
   "metadata": {},
   "outputs": [],
   "source": [
    ""
   ]
  }
 ],
 "metadata": {},
 "nbformat": 4,
 "nbformat_minor": 0
}